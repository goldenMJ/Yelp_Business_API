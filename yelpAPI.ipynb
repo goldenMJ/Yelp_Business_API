{
 "cells": [
  {
   "cell_type": "code",
   "execution_count": 2,
   "metadata": {},
   "outputs": [],
   "source": [
    "#modules\n",
    "\n",
    "import csv\n",
    "import matplotlib.pyplot as plt\n",
    "import requests\n",
    "import pandas as pd\n",
    "from pprint import pprint\n",
    "\n"
   ]
  },
  {
   "cell_type": "code",
   "execution_count": 25,
   "metadata": {},
   "outputs": [],
   "source": [
    "#define api key, endpoint\n",
    "\n",
    "API_KEY = 'ENTER YOUR KEY HERE!'\n",
    "url = 'https://api.yelp.com/v3/businesses/search'\n",
    "HEADERS = {'Authorization':  'Bearer %s' % API_KEY}\n",
    "\n",
    "\n",
    "\n",
    "offset = 0\n",
    "#define parameters for search\n",
    "params = {'term':'restaurants',\n",
    "          'limit': 50,\n",
    "          'radius': 10000,\n",
    "          #pagination\n",
    "          'offset': offset,\n",
    "          'location':'Los Angeles'}\n",
    "\n",
    "#create a list to get the output into an array\n",
    "yelp_data = []\n",
    "\n",
    "#(100)\n",
    "for x in range(2):\n",
    "    offset = x * 50\n",
    "    params = {'term':'restaurants',\n",
    "          'limit': 50,\n",
    "          # The max value is 40000 meters (about 25 miles) https://www.yelp.com/developers/documentation/v3/business_search\n",
    "          'radius': 40000,\n",
    "          #pagination\n",
    "          'offset': offset,\n",
    "          'location':'Los Angeles'}\n",
    "    \n",
    "#make a request to yelp api store response in variable \n",
    "    response_Yelp = requests.get(url, params= params, headers = HEADERS)\n",
    "\n",
    "# convert the JSON string to a Dic\n",
    "    data = response_Yelp.json()\n",
    "#   print(data.keys())\n",
    "\n",
    "#get the businesses loop through\n",
    "#     print(\"=\"* 64)\n",
    "    for business in data['businesses']:\n",
    "#         print(\"=\"* 16)\n",
    "#       pprint(business)\n",
    "\n",
    "        yelp_columns = {\n",
    "            \"alias\":business[\"categories\"][0][\"alias\"],\n",
    "            \"name\":business[\"name\"],\n",
    "            \"latitude\":str(business[\"coordinates\"][\"latitude\"]),\n",
    "            \"longitude\":str(business[\"coordinates\"][\"longitude\"]),\n",
    "            \"is_closed\":business[\"is_closed\"], \n",
    "            \"rating\":business[\"rating\"], \n",
    "            \"review_count\":business[\"review_count\"]\n",
    "        }\n",
    "    \n",
    "#         print(yelp_columns)\n",
    "        yelp_data.append(yelp_columns)\n",
    "\n",
    "#list of dictionary to dataframe, then dataFrame to CSV\n",
    "\n",
    "#pprint(yelp_data)\n",
    "data_csv = pd.DataFrame(yelp_data).head()\n",
    "\n",
    "\n",
    "# saving the dataframe \n",
    "data_csv.to_csv('yelp_data.csv') \n",
    "\n",
    "\n"
   ]
  },
  {
   "cell_type": "code",
   "execution_count": 26,
   "metadata": {},
   "outputs": [
    {
     "data": {
      "text/plain": [
       "<Figure size 432x288 with 0 Axes>"
      ]
     },
     "metadata": {},
     "output_type": "display_data"
    }
   ],
   "source": []
  },
  {
   "cell_type": "code",
   "execution_count": null,
   "metadata": {},
   "outputs": [],
   "source": []
  },
  {
   "cell_type": "code",
   "execution_count": null,
   "metadata": {},
   "outputs": [],
   "source": []
  }
 ],
 "metadata": {
  "kernelspec": {
   "display_name": "Python 3",
   "language": "python",
   "name": "python3"
  },
  "language_info": {
   "codemirror_mode": {
    "name": "ipython",
    "version": 3
   },
   "file_extension": ".py",
   "mimetype": "text/x-python",
   "name": "python",
   "nbconvert_exporter": "python",
   "pygments_lexer": "ipython3",
   "version": "3.7.4"
  }
 },
 "nbformat": 4,
 "nbformat_minor": 2
}
